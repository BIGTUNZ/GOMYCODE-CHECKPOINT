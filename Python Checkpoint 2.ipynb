{
 "cells": [
  {
   "cell_type": "code",
   "execution_count": null,
   "id": "85ad168a-1208-40e4-a62f-469e0570e4af",
   "metadata": {},
   "outputs": [
    {
     "name": "stdout",
     "output_type": "stream",
     "text": [
      "\n",
      "Menu:\n",
      "1. Add item\n",
      "2. Remove item\n",
      "3. View items\n",
      "4. Quit\n"
     ]
    },
    {
     "name": "stdin",
     "output_type": "stream",
     "text": [
      "Please make a selection:  1\n",
      "Enter the item to add:  Goat\n"
     ]
    },
    {
     "name": "stdout",
     "output_type": "stream",
     "text": [
      "'Goat' has been added to the shopping list.\n",
      "\n",
      "Menu:\n",
      "1. Add item\n",
      "2. Remove item\n",
      "3. View items\n",
      "4. Quit\n"
     ]
    },
    {
     "name": "stdin",
     "output_type": "stream",
     "text": [
      "Please make a selection:  3\n"
     ]
    },
    {
     "name": "stdout",
     "output_type": "stream",
     "text": [
      "\n",
      "Shopping List:\n",
      "1. Goat\n",
      "\n",
      "Menu:\n",
      "1. Add item\n",
      "2. Remove item\n",
      "3. View items\n",
      "4. Quit\n"
     ]
    }
   ],
   "source": [
    "shopping_list = []\n",
    "\n",
    "max_items = 10\n",
    "\n",
    "def display_menu():\n",
    "    print(\"\\nMenu:\")\n",
    "    print(\"1. Add item\")\n",
    "    print(\"2. Remove item\")\n",
    "    print(\"3. View items\")\n",
    "    print(\"4. Quit\")\n",
    "\n",
    "def add_item():\n",
    "    if len(shopping_list) < max_items:\n",
    "        item = input(\"Enter the item to add: \")\n",
    "        shopping_list.append(item)\n",
    "        print(f\"'{item}' has been added to the shopping list.\")\n",
    "    else:\n",
    "        print(\"The shopping list is full. You cannot add more items.\")\n",
    "\n",
    "def remove_item():\n",
    "    item = input(\"Enter the item to remove: \")\n",
    "    if item in shopping_list:\n",
    "        shopping_list.remove(item)\n",
    "        print(f\"'{item}' has been removed from the shopping list.\")\n",
    "    else:\n",
    "        print(f\"'{item}' is not in the shopping list.\")\n",
    "\n",
    "def view_items():\n",
    "    if shopping_list:\n",
    "        print(\"\\nShopping List:\")\n",
    "        for index, item in enumerate(shopping_list, start=1):\n",
    "            print(f\"{index}. {item}\")\n",
    "    else:\n",
    "        print(\"The shopping list is empty.\")\n",
    "\n",
    "while True:\n",
    "    display_menu()\n",
    "    choice = input(\"Please make a selection: \")\n",
    "\n",
    "    if choice == '1':\n",
    "        add_item()\n",
    "    elif choice == '2':\n",
    "        remove_item()\n",
    "    elif choice == '3':\n",
    "        view_items()\n",
    "    elif choice == '4':\n",
    "        print(\"Quitting the program. Goodbye!\")\n",
    "        break\n",
    "    else:\n",
    "        print(\"Invalid selection. Please try again.\")\n"
   ]
  },
  {
   "cell_type": "code",
   "execution_count": null,
   "id": "a4d445b8-90f7-4c92-a912-0144b7130570",
   "metadata": {},
   "outputs": [],
   "source": []
  }
 ],
 "metadata": {
  "kernelspec": {
   "display_name": "Python 3 (ipykernel)",
   "language": "python",
   "name": "python3"
  },
  "language_info": {
   "codemirror_mode": {
    "name": "ipython",
    "version": 3
   },
   "file_extension": ".py",
   "mimetype": "text/x-python",
   "name": "python",
   "nbconvert_exporter": "python",
   "pygments_lexer": "ipython3",
   "version": "3.12.4"
  }
 },
 "nbformat": 4,
 "nbformat_minor": 5
}
