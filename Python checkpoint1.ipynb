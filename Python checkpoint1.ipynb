{
 "cells": [
  {
   "cell_type": "code",
   "execution_count": 9,
   "id": "e2172dbb-c8e3-4f03-8da3-67b74e7449fb",
   "metadata": {},
   "outputs": [
    {
     "name": "stdout",
     "output_type": "stream",
     "text": [
      "Welcome to Python Pizza Deliveries\n"
     ]
    },
    {
     "name": "stdin",
     "output_type": "stream",
     "text": [
      "What size pizza do you want? Small, Medium, or Large:  Large\n",
      "Do you want pepperoni? Yes or No:  Yes\n",
      "Do you want extra cheese? Yes or No:  No\n"
     ]
    },
    {
     "name": "stdout",
     "output_type": "stream",
     "text": [
      "Your bill is #3500\n"
     ]
    }
   ],
   "source": [
    "print('Welcome to Python Pizza Deliveries')\n",
    "\n",
    "\n",
    "bill = 0\n",
    "\n",
    "size = input('What size pizza do you want? Small, Medium, or Large: ')\n",
    "\n",
    "if size == 'Small':\n",
    "    bill += 1500\n",
    "elif size == 'Medium':\n",
    "    bill += 2500\n",
    "elif size == 'Large':\n",
    "    bill += 3500\n",
    "\n",
    "add_pepperoni = input('Do you want pepperoni? Yes or No: ')\n",
    "\n",
    "if add_pepperoni == 'Yes':\n",
    "    if size == 'Small':\n",
    "        bill = bill + 200\n",
    "    elif size == 'Medium':\n",
    "        bill += 500\n",
    "        \n",
    "extra_cheese = input('Do you want extra cheese? Yes or No: ')\n",
    "\n",
    "if extra_cheese == 'Yes':\n",
    "    bill += 250\n",
    "\n",
    "\n",
    "print(f'Your bill is #{bill}')"
   ]
  },
  {
   "cell_type": "code",
   "execution_count": null,
   "id": "1bee5af3-c60b-49fb-9d8b-76d97401b069",
   "metadata": {},
   "outputs": [],
   "source": []
  }
 ],
 "metadata": {
  "kernelspec": {
   "display_name": "Python 3 (ipykernel)",
   "language": "python",
   "name": "python3"
  },
  "language_info": {
   "codemirror_mode": {
    "name": "ipython",
    "version": 3
   },
   "file_extension": ".py",
   "mimetype": "text/x-python",
   "name": "python",
   "nbconvert_exporter": "python",
   "pygments_lexer": "ipython3",
   "version": "3.12.4"
  }
 },
 "nbformat": 4,
 "nbformat_minor": 5
}
