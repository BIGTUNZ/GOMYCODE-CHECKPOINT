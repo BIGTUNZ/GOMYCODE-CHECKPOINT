{
 "cells": [
  {
   "cell_type": "code",
   "execution_count": null,
   "id": "74825f03-fe6f-40ba-96c2-906b69b36f6f",
   "metadata": {},
   "outputs": [],
   "source": [
    "Create four basic mathematical functions: 'add', 'subtract', 'multiply', and 'divide' that take in two numbers and return the result of the operation.\n",
    "Create a dictionary 'operations' that assigns the functions to their corresponding operation symbols.\n",
    "Create a function 'calculator' that prompts the user to input the first number.\n",
    "Use a for loop to print the available operation symbols.\n",
    "Create a while loop that will continue to run until the user chooses to end the current calculation.\n",
    "Inside the while loop, prompt the user to select an operation symbol.\n",
    "Prompt the user to input the second number.\n",
    "Use the dictionary to retrieve the function that corresponds to the selected operation symbol and store it in a variable 'calculation_function'\n",
    "Perform the calculation by calling the 'calculation_function' on the two input numbers and store the result in a variable 'answer'.\n",
    "Print the equation and the result of the calculation.\n",
    "Ask the user if they would like to continue using the result as the first number for further calculations.\n",
    "If the user chooses to continue, update the 'num1' variable to the value of 'answer'.\n",
    "If the user chooses to start a new calculation, set the 'should_continue' variable to false and call the 'calculator' function to start a new calculation.\n",
    "Note: Make sure to test the program with different inputs and operations to ensure that it is functioning properly."
   ]
  },
  {
   "cell_type": "code",
   "execution_count": 4,
   "id": "5089c02e-f826-4297-9756-5d32529d1e4e",
   "metadata": {},
   "outputs": [
    {
     "name": "stdin",
     "output_type": "stream",
     "text": [
      "Enter the first number:  20\n"
     ]
    },
    {
     "name": "stdout",
     "output_type": "stream",
     "text": [
      "Operations:\n",
      "+\n",
      "-\n",
      "*\n",
      "**\n",
      "/\n"
     ]
    },
    {
     "name": "stdin",
     "output_type": "stream",
     "text": [
      "Select an operation symbol from the above:  **\n",
      "Enter the second number:  2\n"
     ]
    },
    {
     "name": "stdout",
     "output_type": "stream",
     "text": [
      "The result of 20.0 ** 2.0 is: 400.0\n"
     ]
    },
    {
     "name": "stdin",
     "output_type": "stream",
     "text": [
      "Do you want to continue calculating with the current result? (yes/no):  no\n",
      "Do you want to start a new calculation? (yes/no):  yes\n",
      "Enter the first number:  2\n"
     ]
    },
    {
     "name": "stdout",
     "output_type": "stream",
     "text": [
      "Operations:\n",
      "+\n",
      "-\n",
      "*\n",
      "**\n",
      "/\n"
     ]
    },
    {
     "name": "stdin",
     "output_type": "stream",
     "text": [
      "Select an operation symbol from the above:  +\n",
      "Enter the second number:  3\n"
     ]
    },
    {
     "name": "stdout",
     "output_type": "stream",
     "text": [
      "The result of 2.0 + 3.0 is: 5.0\n"
     ]
    },
    {
     "name": "stdin",
     "output_type": "stream",
     "text": [
      "Do you want to continue calculating with the current result? (yes/no):  no\n",
      "Do you want to start a new calculation? (yes/no):  no\n"
     ]
    },
    {
     "name": "stdout",
     "output_type": "stream",
     "text": [
      "Calculation ended.\n",
      "Calculation ended.\n"
     ]
    }
   ],
   "source": [
    "def add(a, b):\n",
    "    return a + b\n",
    "\n",
    "def subtract(a, b):\n",
    "    return a - b\n",
    "\n",
    "def multiply(a, b):\n",
    "    return a * b\n",
    "\n",
    "def square(a, b):\n",
    "    return a**b\n",
    "\n",
    "def divide(a, b):\n",
    "    if b != 0:\n",
    "        return a / b\n",
    "    else:\n",
    "        return \"Error: Division by zero is not allowed\"\n",
    "\n",
    "operations = {\n",
    "    '+': add,\n",
    "    '-': subtract,\n",
    "    '*': multiply,\n",
    "    '**': square,\n",
    "    '/': divide\n",
    "}\n",
    "\n",
    "def calculator():\n",
    "    first_number = float(input(\"Enter the first number: \"))\n",
    "    \n",
    "    print(\"Operations:\")\n",
    "    for symbol in operations:\n",
    "        print(symbol)\n",
    "    \n",
    "    continue_calculating = True\n",
    "    while continue_calculating:\n",
    "        operation = input(\"Select an operation symbol from the above: \")\n",
    "        \n",
    "        if operation in operations:\n",
    "            second_number = float(input(\"Enter the second number: \"))\n",
    "            \n",
    "            calculation_function = operations[operation]\n",
    "            \n",
    "            answer = calculation_function(first_number, second_number)\n",
    "            \n",
    "            print(f\"The result of {first_number} {operation} {second_number} is: {answer}\")\n",
    "            \n",
    "            continue_input = input(\"Do you want to continue calculating with the current result? (yes/no): \").lower()\n",
    "            if continue_input == 'yes':\n",
    "                first_number = answer\n",
    "            else:\n",
    "                new_calculation_input = input(\"Do you want to start a new calculation? (yes/no): \").lower()\n",
    "                if new_calculation_input == 'yes':\n",
    "                    continue_calculating = False\n",
    "                    calculator() \n",
    "                else:\n",
    "                    continue_calculating = False\n",
    "        else:\n",
    "            print(\"Invalid operation symbol. Please try again.\")\n",
    "    \n",
    "    print(\"Calculation ended.\")\n",
    "\n",
    "\n",
    "\n",
    "\n",
    "calculator()\n"
   ]
  },
  {
   "cell_type": "code",
   "execution_count": null,
   "id": "22536bd9-7c41-4a7b-bbfc-e5d0765b6fd2",
   "metadata": {},
   "outputs": [],
   "source": []
  },
  {
   "cell_type": "code",
   "execution_count": null,
   "id": "ad45c778-83d4-4376-bca4-9cd793477f80",
   "metadata": {},
   "outputs": [],
   "source": []
  }
 ],
 "metadata": {
  "kernelspec": {
   "display_name": "Python 3 (ipykernel)",
   "language": "python",
   "name": "python3"
  },
  "language_info": {
   "codemirror_mode": {
    "name": "ipython",
    "version": 3
   },
   "file_extension": ".py",
   "mimetype": "text/x-python",
   "name": "python",
   "nbconvert_exporter": "python",
   "pygments_lexer": "ipython3",
   "version": "3.12.4"
  }
 },
 "nbformat": 4,
 "nbformat_minor": 5
}
